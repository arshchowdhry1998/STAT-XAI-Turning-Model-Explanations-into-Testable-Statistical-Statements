{
 "cells": [
  {
   "cell_type": "code",
   "execution_count": 105,
   "id": "5d96b1db-646a-4a77-9624-284449a76595",
   "metadata": {},
   "outputs": [],
   "source": [
    "from sklearn.neural_network import MLPClassifier\n",
    "from sklearn.datasets import make_classification\n",
    "from sklearn.model_selection import train_test_split\n",
    "from sklearn.preprocessing import OneHotEncoder\n",
    "import pandas as pd\n",
    "import numpy as np\n",
    "from sklearn.metrics import accuracy_score\n",
    "from sklearn.preprocessing import StandardScaler\n",
    "import matplotlib.pyplot as plt\n",
    "from sklearn.metrics import accuracy_score, classification_report, confusion_matrix\n",
    "from sklearn.preprocessing import OneHotEncoder\n",
    "from sklearn.compose import ColumnTransformer\n"
   ]
  },
  {
   "cell_type": "code",
   "execution_count": null,
   "id": "e46ed569-e240-419d-b0b5-2ba20646e771",
   "metadata": {
    "scrolled": true
   },
   "outputs": [],
   "source": [
    "df = pd.read_csv(/GermanCredit.csv')\n",
    "\n",
    "df.head()"
   ]
  },
  {
   "cell_type": "code",
   "execution_count": null,
   "id": "7ed13e53-4b37-4191-95ea-35abdf3da647",
   "metadata": {},
   "outputs": [],
   "source": []
  },
  {
   "cell_type": "code",
   "execution_count": 6,
   "id": "03359c09-a9ae-4616-9c07-df7e2e088f14",
   "metadata": {},
   "outputs": [],
   "source": [
    "numerical_cols = df.select_dtypes(include=['int64', 'float64']).columns.tolist()\n",
    "categorical_cols = df.select_dtypes(include=['object', 'category']).columns.tolist()"
   ]
  },
  {
   "cell_type": "code",
   "execution_count": null,
   "id": "d3e8e26f-2962-40e3-91e1-0904128a76e2",
   "metadata": {},
   "outputs": [],
   "source": [
    "categorical_cols"
   ]
  },
  {
   "cell_type": "code",
   "execution_count": null,
   "id": "44979993-8585-4b39-8a66-e9582fad4f40",
   "metadata": {},
   "outputs": [],
   "source": [
    "for col in categorical_cols:\n",
    "    print(f\"\\n▶ {col} ({df[col].nunique()} categories):\")\n",
    "    print(df[col].value_counts())"
   ]
  },
  {
   "cell_type": "code",
   "execution_count": 12,
   "id": "8eac7230-97db-461c-a0bf-896c71883101",
   "metadata": {},
   "outputs": [],
   "source": [
    "def split_personal_status(value):\n",
    "    if value.startswith('male'):\n",
    "        sex = 'male'\n",
    "    else:\n",
    "        sex = 'female'\n",
    "    \n",
    "    status = value.split(\":\")[-1].strip()\n",
    "    return pd.Series([sex, status])\n",
    "\n",
    "# Apply and replace\n",
    "df[['Sex', 'Personal_Status']] = df['personal_status_sex'].apply(split_personal_status)\n",
    "\n",
    "# Drop the original column\n",
    "df.drop(columns='personal_status_sex', inplace=True)"
   ]
  },
  {
   "cell_type": "code",
   "execution_count": 14,
   "id": "09dc5827-79cf-4cd0-a12a-70dde17f7679",
   "metadata": {},
   "outputs": [],
   "source": [
    "df['foreign_worker'] = df['foreign_worker'].map({'yes': 1, 'no': 0})\n",
    "\n",
    "# Map 'telephone' to binary: yes → 1, no → 0\n",
    "df['telephone'] = df['telephone'].map({'yes': 1, 'no': 0})\n"
   ]
  },
  {
   "cell_type": "code",
   "execution_count": 16,
   "id": "9f5a0345-1cba-48ee-bbd7-ebbc10a7974b",
   "metadata": {},
   "outputs": [],
   "source": [
    "df.drop(columns='Personal_Status', inplace=True)"
   ]
  },
  {
   "cell_type": "code",
   "execution_count": 18,
   "id": "d1198d07-2d74-4b25-8350-f1b269807814",
   "metadata": {},
   "outputs": [],
   "source": [
    "df['Sex'] = df['Sex'].map({'male': 1, 'female': 0})\n"
   ]
  },
  {
   "cell_type": "code",
   "execution_count": null,
   "id": "34225821-fa80-4e7e-befa-a425126ac314",
   "metadata": {},
   "outputs": [],
   "source": [
    "df"
   ]
  },
  {
   "cell_type": "code",
   "execution_count": 22,
   "id": "860d6309-9fca-4880-a074-5c698c9b5bd7",
   "metadata": {},
   "outputs": [],
   "source": [
    "exclude_cols = ['people_liable', 'telephone', 'foreign_worker', 'credit_risk', 'Sex']"
   ]
  },
  {
   "cell_type": "code",
   "execution_count": 24,
   "id": "b29a3de8-67b7-4d11-9b62-a2e9e1725b3d",
   "metadata": {},
   "outputs": [],
   "source": [
    "numerical_cols_for_outliers = df.select_dtypes(include=['int64', 'float64']).columns\n",
    "numerical_cols_for_outliers = [col for col in numerical_cols_for_outliers if col not in exclude_cols]\n",
    "\n",
    "# Function to cap outliers using IQR\n",
    "def cap_outliers_iqr(data, col):\n",
    "    Q1 = data[col].quantile(0.25)\n",
    "    Q3 = data[col].quantile(0.75)\n",
    "    IQR = Q3 - Q1\n",
    "    lower_bound = Q1 - 1.5 * IQR\n",
    "    upper_bound = Q3 + 1.5 * IQR\n",
    "    data[col] = data[col].clip(lower=lower_bound, upper=upper_bound)\n",
    "\n",
    "# Apply capping only to the valid features\n",
    "for col in numerical_cols_for_outliers:\n",
    "    cap_outliers_iqr(df, col)\n",
    "\n"
   ]
  },
  {
   "cell_type": "code",
   "execution_count": null,
   "id": "e9a9267f-15e2-4149-a95a-d94897e9597b",
   "metadata": {},
   "outputs": [],
   "source": []
  },
  {
   "cell_type": "code",
   "execution_count": 27,
   "id": "3b80d3ca-4556-4354-a371-c8e99884b4bd",
   "metadata": {},
   "outputs": [],
   "source": [
    "status_mapping = {\n",
    "    \"... < 100 DM\": \"lt_100\",\n",
    "    \"0 <= ... < 200 DM\": \"btw_0_200\",\n",
    "    \"... >= 200 DM / salary for at least 1 year\": \"gte_200_salary\",\n",
    "    \"no checking account\": \"no_account\"  # if this value exists in the dataset\n",
    "}\n",
    "\n",
    "credit_history_mapping = {\n",
    "    \"existing credits paid back duly till now\": \"paid_duly\",\n",
    "    \"critical account/other credits existing\": \"critical_account\",\n",
    "    \"delay in paying off in the past\": \"delayed_payment\",\n",
    "    \"all credits at this bank paid back duly\": \"bank_paid_duly\",\n",
    "    \"no credits taken/all credits paid back duly\": \"no_credits\"\n",
    "}\n",
    "\n",
    "# PURPOSE\n",
    "purpose_mapping = {\n",
    "    \"domestic appliances\": \"domestic_appliances\",\n",
    "    \"car (new)\": \"new_car\",\n",
    "    \"radio/television\": \"radio_tv\",\n",
    "    \"car (used)\": \"used_car\",\n",
    "    \"others\": \"others\",\n",
    "    \"retraining\": \"retraining\",\n",
    "    \"education\": \"education\",\n",
    "    \"repairs\": \"repairs\",\n",
    "    \"furniture/equipment\": \"furniture\",\n",
    "    \"business\": \"business\"\n",
    "}\n",
    "\n",
    "# SAVINGS\n",
    "savings_mapping = {\n",
    "    \"... < 100 DM\": \"lt_100\",\n",
    "    \"unknown/no savings account\": \"no_savings\",\n",
    "    \"100 <= ... < 500 DM\": \"btw_100_500\",\n",
    "    \"500 <= ... < 1000 DM\": \"btw_500_1000\",\n",
    "    \"... >= 1000 DM\": \"gte_1000\"\n",
    "}\n",
    "\n",
    "# EMPLOYMENT DURATION\n",
    "employment_mapping = {\n",
    "    \"1 <= ... < 4 years\": \"1_to_4_yrs\",\n",
    "    \"... >= 7 years\": \"gte_7_yrs\",\n",
    "    \"4 <= ... < 7 years\": \"4_to_7_yrs\",\n",
    "    \"... < 1 year\": \"lt_1_yr\",\n",
    "    \"unemployed\": \"unemployed\"\n",
    "}\n",
    "\n",
    "# OTHER DEBTORS / GUARANTORS\n",
    "other_debtors_mapping = {\n",
    "    \"none\": \"none\",\n",
    "    \"guarantor\": \"guarantor\",\n",
    "    \"co-applicant\": \"co_applicant\"\n",
    "}\n",
    "\n",
    "# PROPERTY\n",
    "property_mapping = {\n",
    "    \"car or other\": \"car_other\",\n",
    "    \"real estate\": \"real_estate\",\n",
    "    \"building society savings agreement/life insurance\": \"savings_insurance\",\n",
    "    \"unknown/no property\": \"no_property\"\n",
    "}\n",
    "\n",
    "# OTHER INSTALLMENT PLANS\n",
    "installment_plans_mapping = {\n",
    "    \"none\": \"none\",\n",
    "    \"bank\": \"bank\",\n",
    "    \"stores\": \"stores\"\n",
    "}\n",
    "\n",
    "# HOUSING\n",
    "housing_mapping = {\n",
    "    \"own\": \"own\",\n",
    "    \"rent\": \"rent\",\n",
    "    \"for free\": \"free\"\n",
    "}\n",
    "\n",
    "# JOB\n",
    "job_mapping = {\n",
    "    \"skilled employee/official\": \"skilled\",\n",
    "    \"unskilled - resident\": \"unskilled_resident\",\n",
    "    \"management/self-employed/highly qualified employee/officer\": \"management\",\n",
    "    \"unemployed/unskilled - non-resident\": \"unskilled_nonresident\"\n",
    "}"
   ]
  },
  {
   "cell_type": "code",
   "execution_count": 29,
   "id": "8255e936-b78e-4624-9e7b-7963d5fb25b4",
   "metadata": {},
   "outputs": [],
   "source": [
    "df['credit_history'] = df['credit_history'].map(credit_history_mapping)\n",
    "df['purpose'] = df['purpose'].map(purpose_mapping)\n",
    "df['savings'] = df['savings'].map(savings_mapping)\n",
    "df['employment_duration'] = df['employment_duration'].map(employment_mapping)\n",
    "df['other_debtors'] = df['other_debtors'].map(other_debtors_mapping)\n",
    "df['property'] = df['property'].map(property_mapping)\n",
    "df['other_installment_plans'] = df['other_installment_plans'].map(installment_plans_mapping)\n",
    "df['housing'] = df['housing'].map(housing_mapping)\n",
    "df['job'] = df['job'].map(job_mapping)"
   ]
  },
  {
   "cell_type": "code",
   "execution_count": null,
   "id": "b8741884-bfcf-4706-a8a8-becf96d33b10",
   "metadata": {},
   "outputs": [],
   "source": [
    "df"
   ]
  },
  {
   "cell_type": "code",
   "execution_count": 33,
   "id": "0f3b128e-e160-4328-a700-2e955fa2bbcd",
   "metadata": {},
   "outputs": [],
   "source": [
    "X = df.drop(columns='credit_risk')\n",
    "y = df['credit_risk']\n"
   ]
  },
  {
   "cell_type": "code",
   "execution_count": 35,
   "id": "8cd05b8b-2892-40a7-99b9-fc0c8e083f37",
   "metadata": {},
   "outputs": [
    {
     "data": {
      "text/plain": [
       "Index(['status', 'duration', 'credit_history', 'purpose', 'amount', 'savings',\n",
       "       'employment_duration', 'installment_rate', 'other_debtors',\n",
       "       'present_residence', 'property', 'age', 'other_installment_plans',\n",
       "       'housing', 'number_credits', 'job', 'people_liable', 'telephone',\n",
       "       'foreign_worker', 'Sex'],\n",
       "      dtype='object')"
      ]
     },
     "execution_count": 35,
     "metadata": {},
     "output_type": "execute_result"
    }
   ],
   "source": [
    "X.columns"
   ]
  },
  {
   "cell_type": "code",
   "execution_count": 37,
   "id": "d77a1fff-8d6a-4087-a383-90ef03a3c936",
   "metadata": {},
   "outputs": [],
   "source": [
    "categorical_cols = X.select_dtypes(include=['object', 'category']).columns.tolist()"
   ]
  },
  {
   "cell_type": "code",
   "execution_count": 39,
   "id": "9c6a0fba-2f86-472a-ac93-ae0ed4688b70",
   "metadata": {},
   "outputs": [
    {
     "data": {
      "text/plain": [
       "['duration',\n",
       " 'amount',\n",
       " 'installment_rate',\n",
       " 'present_residence',\n",
       " 'age',\n",
       " 'number_credits',\n",
       " 'people_liable',\n",
       " 'credit_risk']"
      ]
     },
     "execution_count": 39,
     "metadata": {},
     "output_type": "execute_result"
    }
   ],
   "source": [
    "numerical_cols"
   ]
  },
  {
   "cell_type": "code",
   "execution_count": 41,
   "id": "5b015dd7-7461-4a66-9bfa-a32afa615961",
   "metadata": {},
   "outputs": [],
   "source": [
    "categorical_cols = X.select_dtypes(include=['object', 'category']).columns.tolist()\n",
    "numerical_cols = X.select_dtypes(include=['int64', 'float64']).columns.tolist()"
   ]
  },
  {
   "cell_type": "code",
   "execution_count": 43,
   "id": "0351d925-325b-4e1e-a4b7-8c34669f7aae",
   "metadata": {},
   "outputs": [],
   "source": [
    "X_train, X_test, y_train, y_test = train_test_split(X, y, test_size=0.2, random_state=42, stratify=y)\n",
    "X_test_original = X_test.copy() "
   ]
  },
  {
   "cell_type": "code",
   "execution_count": 45,
   "id": "4ae16616-395f-4a62-9a88-213fd1bc762f",
   "metadata": {},
   "outputs": [
    {
     "data": {
      "text/plain": [
       "Index(['status', 'duration', 'credit_history', 'purpose', 'amount', 'savings',\n",
       "       'employment_duration', 'installment_rate', 'other_debtors',\n",
       "       'present_residence', 'property', 'age', 'other_installment_plans',\n",
       "       'housing', 'number_credits', 'job', 'people_liable', 'telephone',\n",
       "       'foreign_worker', 'Sex'],\n",
       "      dtype='object')"
      ]
     },
     "execution_count": 45,
     "metadata": {},
     "output_type": "execute_result"
    }
   ],
   "source": [
    "X_test_original.columns"
   ]
  },
  {
   "cell_type": "code",
   "execution_count": 47,
   "id": "11d73dad-01a3-4c2a-acf8-b91d7085a1ba",
   "metadata": {},
   "outputs": [],
   "source": [
    "encoder = OneHotEncoder(drop='first', sparse_output=False, handle_unknown='ignore')\n",
    "X_train_cat = encoder.fit_transform(X_train[categorical_cols])\n",
    "X_test_cat = encoder.transform(X_test[categorical_cols])\n"
   ]
  },
  {
   "cell_type": "code",
   "execution_count": 49,
   "id": "a2091941-5b87-4370-ae8f-907b430be6c3",
   "metadata": {},
   "outputs": [],
   "source": [
    "exclude_scaling = ['people_liable', 'telephone', 'foreign_worker', 'Sex']\n",
    "\n",
    "# Get all numerical columns from the dataset\n",
    "all_numerical_cols = X_train.select_dtypes(include=['int64', 'float64']).columns.tolist()\n",
    "\n",
    "# Filter to get only the columns you DO want to scale\n",
    "numerical_to_scale = [col for col in all_numerical_cols if col not in exclude_scaling]\n",
    "\n",
    "# Initialize and apply StandardScaler\n",
    "scaler = StandardScaler()\n",
    "X_train_scaled = scaler.fit_transform(X_train[numerical_to_scale])\n",
    "X_test_scaled = scaler.transform(X_test[numerical_to_scale])\n",
    "\n"
   ]
  },
  {
   "cell_type": "code",
   "execution_count": 51,
   "id": "4e706afc-263e-4c9c-b4ec-9b22e701f2cf",
   "metadata": {},
   "outputs": [],
   "source": [
    "X_train_scaled_df = pd.DataFrame(X_train_scaled, columns=numerical_to_scale, index=X_train.index)\n",
    "X_test_scaled_df = pd.DataFrame(X_test_scaled, columns=numerical_to_scale, index=X_test.index)\n"
   ]
  },
  {
   "cell_type": "code",
   "execution_count": 53,
   "id": "319c4872-26bb-48f3-ae88-3450df225b9f",
   "metadata": {},
   "outputs": [],
   "source": [
    "X_train_unscaled_df = X_train[exclude_scaling].copy()\n",
    "X_test_unscaled_df = X_test[exclude_scaling].copy()\n",
    "\n",
    "# 3. Create DataFrames for encoded categorical features\n",
    "encoded_cat_features = encoder.get_feature_names_out(categorical_cols)\n",
    "\n",
    "X_train_cat_df = pd.DataFrame(X_train_cat, columns=encoded_cat_features, index=X_train.index)\n",
    "X_test_cat_df = pd.DataFrame(X_test_cat, columns=encoded_cat_features, index=X_test.index)\n"
   ]
  },
  {
   "cell_type": "code",
   "execution_count": 55,
   "id": "4cae68b4-3521-4911-851e-6ab0d46fc4cf",
   "metadata": {},
   "outputs": [],
   "source": [
    "X_train_final = pd.concat([X_train_scaled_df, X_train_unscaled_df, X_train_cat_df], axis=1)\n",
    "X_test_final = pd.concat([X_test_scaled_df, X_test_unscaled_df, X_test_cat_df], axis=1)\n"
   ]
  },
  {
   "cell_type": "code",
   "execution_count": null,
   "id": "c6770886-7f9d-4e44-9cb8-3d82726e204c",
   "metadata": {},
   "outputs": [],
   "source": [
    "X_test_final"
   ]
  },
  {
   "cell_type": "code",
   "execution_count": 59,
   "id": "e03a3d24-d37f-4409-8968-4274c1000191",
   "metadata": {},
   "outputs": [],
   "source": [
    "mlp = MLPClassifier(hidden_layer_sizes=(128, 64, 32, 16), max_iter=1, warm_start=True, random_state=42)\n"
   ]
  },
  {
   "cell_type": "code",
   "execution_count": null,
   "id": "8531bdd2-11f9-44ae-b77a-66dbf90a4f2b",
   "metadata": {},
   "outputs": [],
   "source": [
    "epochs = 200\n",
    "\n",
    "# 6. Perform training over 100 epochs.\n",
    "# On the first call, use partial_fit with the classes parameter.\n",
    "classes = np.unique(y_train)\n",
    "\n",
    "for epoch in range(epochs):\n",
    "    if epoch == 0:\n",
    "        mlp.partial_fit(X_train_final, y_train, classes=classes)\n",
    "    else:\n",
    "        mlp.partial_fit(X_train_final, y_train)\n",
    "    # Optionally, print epoch number and current loss value.\n",
    "    print(f\"Epoch {epoch+1:03d}, Loss: {mlp.loss_:.4f}\")"
   ]
  },
  {
   "cell_type": "code",
   "execution_count": 63,
   "id": "9d5e23e0-ca6a-4a7c-93bb-840394aea420",
   "metadata": {},
   "outputs": [],
   "source": [
    "y_pred = mlp.predict(X_test_final)"
   ]
  },
  {
   "cell_type": "code",
   "execution_count": 65,
   "id": "0873ecce-ffab-4fff-a1eb-6af692500665",
   "metadata": {},
   "outputs": [
    {
     "name": "stdout",
     "output_type": "stream",
     "text": [
      "Accuracy: 0.71\n"
     ]
    }
   ],
   "source": [
    "print(\"Accuracy:\", accuracy_score(y_test, y_pred))"
   ]
  },
  {
   "cell_type": "code",
   "execution_count": null,
   "id": "e7e5c902-d219-420f-a570-34f5301b08fa",
   "metadata": {},
   "outputs": [],
   "source": [
    "print(\"\\nClassification Report:\\n\", classification_report(y_test, y_pred))\n",
    "print(\"\\nConfusion Matrix:\\n\", confusion_matrix(y_test, y_pred))"
   ]
  },
  {
   "cell_type": "code",
   "execution_count": 67,
   "id": "bab2f076-8724-40f1-83f2-253bf6cd285f",
   "metadata": {},
   "outputs": [],
   "source": [
    "y_pred_df = pd.DataFrame(y_pred, columns=['Predicted_Label'], index=X_test.index)"
   ]
  },
  {
   "cell_type": "code",
   "execution_count": 69,
   "id": "2b349a83-1388-4289-b7a2-bcdbbd0f37c5",
   "metadata": {},
   "outputs": [],
   "source": [
    "merged_df = pd.concat([X_test_original, y_pred_df], axis=1)"
   ]
  },
  {
   "cell_type": "code",
   "execution_count": 71,
   "id": "2ce86bf3-6ee1-4be1-a560-c04a029e1f3b",
   "metadata": {},
   "outputs": [
    {
     "data": {
      "text/plain": [
       "Index(['status', 'duration', 'credit_history', 'purpose', 'amount', 'savings',\n",
       "       'employment_duration', 'installment_rate', 'other_debtors',\n",
       "       'present_residence', 'property', 'age', 'other_installment_plans',\n",
       "       'housing', 'number_credits', 'job', 'people_liable', 'telephone',\n",
       "       'foreign_worker', 'Sex', 'Predicted_Label'],\n",
       "      dtype='object')"
      ]
     },
     "execution_count": 71,
     "metadata": {},
     "output_type": "execute_result"
    }
   ],
   "source": [
    "merged_df.columns"
   ]
  },
  {
   "cell_type": "code",
   "execution_count": null,
   "id": "d565142b-796f-49aa-b77e-fe96a8ad0277",
   "metadata": {},
   "outputs": [],
   "source": [
    "merged_df"
   ]
  },
  {
   "cell_type": "code",
   "execution_count": 75,
   "id": "e489addc-85fe-4712-8bf3-b8535e2c5acd",
   "metadata": {},
   "outputs": [],
   "source": [
    "import pandas as pd\n",
    "import numpy as np\n",
    "import itertools\n",
    "from scipy.stats import pointbiserialr, chi2_contingency, chi2\n",
    "from sklearn.impute import SimpleImputer\n",
    "import statsmodels.formula.api as smf\n",
    "from scipy.special import expit\n",
    "from IPython.display import display"
   ]
  },
  {
   "cell_type": "code",
   "execution_count": 89,
   "id": "057b387e-6917-4706-9e30-bb4e1d3d1a38",
   "metadata": {},
   "outputs": [],
   "source": [
    "categorical_features = [\"status\",\n",
    " \"credit_history\",\n",
    " \"purpose\",\n",
    " 'savings',\n",
    " \"employment_duration\",\n",
    " \"other_debtors\",\n",
    " \"property\",\n",
    " \"other_installment_plans\",\n",
    " \"housing\",\n",
    " \"job\"]\n",
    "\n",
    "target = \"Predicted_Label\"\n",
    "\n",
    "numeric_features = ['duration',\n",
    " 'amount',\n",
    " 'installment_rate',\n",
    " 'present_residence',\n",
    " 'age',\n",
    " 'number_credits',\n",
    " 'people_liable',\n",
    " 'telephone',\n",
    " 'foreign_worker',\n",
    " 'Sex']"
   ]
  },
  {
   "cell_type": "code",
   "execution_count": null,
   "id": "1d9ad35d-980a-4293-b0fb-34b27d6ba488",
   "metadata": {},
   "outputs": [],
   "source": []
  },
  {
   "cell_type": "code",
   "execution_count": null,
   "id": "d2d41bdd-cb95-43f8-8768-8ae6e8162dea",
   "metadata": {},
   "outputs": [],
   "source": [
    "\n"
   ]
  },
  {
   "cell_type": "code",
   "execution_count": null,
   "id": "9499025f-fbc2-4df7-a1ab-97061dcf7340",
   "metadata": {},
   "outputs": [],
   "source": [
    "import numpy as np\n",
    "from scipy.stats import pointbiserialr, chi2_contingency\n",
    "from sklearn.impute import SimpleImputer\n",
    "from IPython.display import display\n",
    "\n",
    "# 1) Main‐effect ranking\n",
    "def compute_main_importance(df, numeric_feats, categorical_feats, target, alpha=0.05):\n",
    "    df = df.copy()\n",
    "    for c in categorical_feats:\n",
    "        df[c] = df[c].astype('category')\n",
    "    def cramers_v(tbl):\n",
    "        chi2_stat = chi2_contingency(tbl, correction=False)[0]\n",
    "        n = tbl.values.sum(); r, k = tbl.shape\n",
    "        return np.sqrt(chi2_stat / (n * (min(r, k) - 1)))\n",
    "    rows = []\n",
    "    for feat in numeric_feats:\n",
    "        r, p = pointbiserialr(df[feat], df[target])\n",
    "        eff = abs(r) if p < alpha else 0.0\n",
    "        rows.append({'Feature': feat, 'p_value': round(p,4), 'Effect': round(eff,4)})\n",
    "    for feat in categorical_feats:\n",
    "        tbl = pd.crosstab(df[feat], df[target])\n",
    "        _, p, _, _ = chi2_contingency(tbl, correction=False)\n",
    "        eff = cramers_v(tbl) if p < alpha else 0.0\n",
    "        rows.append({'Feature': feat, 'p_value': round(p,4), 'Effect': round(eff,4)})\n",
    "    return pd.DataFrame(rows).sort_values('Effect', ascending=False).reset_index(drop=True)\n",
    "\n",
    "# 2) Single‐run Jaccard@Top-5\n",
    "def compute_single_jaccard_top5(df, num_feats, cat_feats, target, alpha=0.05):\n",
    "    orig = compute_main_importance(df, num_feats, cat_feats, target, alpha)['Feature'][:5].tolist()\n",
    "    pert = df.copy()\n",
    "    # noise + MCAR\n",
    "    for c in num_feats:\n",
    "        pert[c] += np.random.normal(0, 0.01*pert[c].std(), size=len(pert))\n",
    "    frac = np.random.uniform(0.05,0.10)\n",
    "    idx = pert.sample(frac=frac).index\n",
    "    pert.loc[idx, num_feats]     = np.nan\n",
    "    idx = pert.sample(frac=frac).index\n",
    "    pert.loc[idx, cat_feats]     = np.nan\n",
    "    pert[num_feats] = SimpleImputer(strategy='mean').fit_transform(pert[num_feats])\n",
    "    pert[cat_feats] = SimpleImputer(strategy='most_frequent').fit_transform(pert[cat_feats])\n",
    "    new = compute_main_importance(pert, num_feats, cat_feats, target, alpha)['Feature'][:5].tolist()\n",
    "\n",
    "    j = len(set(orig)&set(new))/len(set(orig)|set(new))\n",
    "    return j, orig, new\n",
    "\n",
    "def evaluate_jaccard_topk_noise(df, numeric_features, categorical_features, target,\n",
    "                                n_runs=50, top_k=5, alpha=0.05,\n",
    "                                gaussian_frac=0.01, cat_noise_frac=0.05):\n",
    "    orig = compute_main_importance(df, numeric_features, categorical_features, target, alpha)['Feature'][:top_k].tolist()\n",
    "    orig_set = set(orig)\n",
    "    scores = []\n",
    "    for _ in range(n_runs):\n",
    "        pert = perturb_with_noise(df, numeric_features, categorical_features, gaussian_frac, cat_noise_frac)\n",
    "        new = compute_main_importance(pert, numeric_features, categorical_features, target, alpha)['Feature'][:top_k].tolist()\n",
    "        scores.append(len(orig_set & set(new)) / len(orig_set | set(new)) if orig_set else 0.0)\n",
    "    return {\n",
    "        f'avg_jaccard_top_{top_k}': np.mean(scores),\n",
    "        f'std_jaccard_top_{top_k}': np.std(scores)\n",
    "    }\n",
    "\n",
    "# === RUN THIS AFTER merged_df IS DEFINED ===\n",
    "# numeric_features = ['age', 'fnlwgt', 'hours_per_week']\n",
    "# categorical_features = [\"workclass\", \"education\", \"marital-status\",\"occupation\",\"relationship\",\"race\",\"gender\",\"native-country\"]\n",
    "# target = 'Predicted_Label'\n",
    "# alpha = 0.05\n",
    "\n",
    "# show main‐effect ranking\n",
    "main_df = compute_main_importance(merged_df, numeric_features, categorical_features, target, alpha)\n",
    "display(main_df)\n",
    "\n",
    "# compute one‐off Jaccard@5\n",
    "j, orig_top5, pert_top5 = compute_single_jaccard_top5(\n",
    "    merged_df, numeric_features, categorical_features, target, alpha\n",
    ")\n",
    "print(\"Original Top-5:\", orig_top5)\n",
    "print(\"Perturbed Top-5:\", pert_top5)\n",
    "print(f\"Jaccard@Top-5 = {j:.2f}\")\n",
    "\n",
    "# Average over 50 runs\n",
    "stability = evaluate_jaccard_topk_noise(\n",
    "    merged_df, numeric_features, categorical_features, target,\n",
    "    n_runs=50, top_k=5, alpha=alpha,\n",
    "    gaussian_frac=0.01, cat_noise_frac=0.05\n",
    ")\n",
    "print(\"\\nNoise-only stability:\", stability)\n"
   ]
  },
  {
   "cell_type": "code",
   "execution_count": null,
   "id": "1b51b5ca-2a62-41b1-bfc4-5ecc3d24717a",
   "metadata": {},
   "outputs": [],
   "source": []
  },
  {
   "cell_type": "code",
   "execution_count": 109,
   "id": "2d710238-4653-46fe-a068-3bb2863276bc",
   "metadata": {},
   "outputs": [],
   "source": [
    "import os\n",
    "save_dir = r\"/Users/arsh/real_STAT\"           # ← Windows example\n",
    "# save_dir = \"/Users/alice/Pictures/MyPlots\"            # ← macOS/Linux example\n",
    "\n",
    "# 2) Make sure it exists\n",
    "os.makedirs(save_dir, exist_ok=True)\n",
    "\n",
    "# 3) Build the full filename\n",
    "filename = \"MLP_German.jpg\"\n",
    "output_path = os.path.join(save_dir, filename)"
   ]
  },
  {
   "cell_type": "code",
   "execution_count": null,
   "id": "4c95ab0b-d44a-4174-a34f-3bece02b5430",
   "metadata": {},
   "outputs": [],
   "source": [
    "import matplotlib.pyplot as plt\n",
    "\n",
    "plot_df = main_df[main_df['Effect'] > 0]\n",
    "\n",
    "plt.figure(figsize=(8, 6))\n",
    "plt.barh(plot_df['Feature'], plot_df['Effect'], color='skyblue')\n",
    "plt.xlabel(\"Effect Size\")\n",
    "plt.title(\"Ranked Effect Sizes for Significant Features (Effect > 0)\")\n",
    "plt.gca().invert_yaxis()  # largest effect at top\n",
    "plt.grid(axis='x', linestyle='--', alpha=0.6)\n",
    "plt.tight_layout()\n",
    "plt.savefig(output_path, dpi=300)\n",
    "plt.show()\n",
    "\n",
    "print(\"Saved plot to:\", os.path.abspath(output_path))"
   ]
  },
  {
   "cell_type": "code",
   "execution_count": null,
   "id": "1f8f1bb7-4396-41cc-ac62-091eabb9ac33",
   "metadata": {},
   "outputs": [],
   "source": []
  }
 ],
 "metadata": {
  "kernelspec": {
   "display_name": "Python [conda env:base] *",
   "language": "python",
   "name": "conda-base-py"
  },
  "language_info": {
   "codemirror_mode": {
    "name": "ipython",
    "version": 3
   },
   "file_extension": ".py",
   "mimetype": "text/x-python",
   "name": "python",
   "nbconvert_exporter": "python",
   "pygments_lexer": "ipython3",
   "version": "3.12.7"
  }
 },
 "nbformat": 4,
 "nbformat_minor": 5
}
